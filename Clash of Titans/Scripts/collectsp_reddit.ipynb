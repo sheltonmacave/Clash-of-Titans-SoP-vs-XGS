{
 "cells": [
  {
   "cell_type": "code",
   "execution_count": 2,
   "metadata": {},
   "outputs": [],
   "source": [
    "import praw\n",
    "import pandas as pd \n",
    "\n",
    "# Criação da instância Reddit\n",
    "reddit = praw.Reddit(\n",
    "    user_agent=\"YOUR_USER_AGENT\", # Coloque uma descrição para seu user agent\n",
    "    client_id=\"-qhhlNOLI1Ok9PrjtC5e5A\",\n",
    "    client_secret=\"WeKn_P1JdBYUywTkSmPnn193gWXFwg\",\n",
    "    username=\"_itaky\",\n",
    "    password=\"MacaveReddit!\"\n",
    ")\n",
    "\n",
    "# URL do post que você quer buscar\n",
    "url1 = \"https://www.reddit.com/r/playstation/comments/1d4fv8e/state_of_play_may_30_2024/\"\n",
    "\n",
    "# Obtendo a submissão pelo URL\n",
    "post = reddit.submission(url=url1)\n",
    "\n",
    "comments_data = []\n",
    "\n",
    "# Iterando sobre os comentários e coletando informações\n",
    "post.comments.replace_more(limit=None)\n",
    "for comment in post.comments.list():\n",
    "    comment_info = {\n",
    "        'author': str(comment.author),\n",
    "        'score': comment.score,\n",
    "        'body': comment.body.replace('\\n', ' '),\n",
    "        'num_replies': len(comment.replies)\n",
    "    }\n",
    "    comments_data.append(comment_info)\n",
    "\n",
    "# Criando o DataFrame\n",
    "df = pd.DataFrame(comments_data)\n",
    "\n",
    "# Imprimindo a tabela\n",
    "#print(df)\n",
    "df.to_csv('SoP Reddit.csv', index=False)"
   ]
  }
 ],
 "metadata": {
  "kernelspec": {
   "display_name": "Python 3",
   "language": "python",
   "name": "python3"
  },
  "language_info": {
   "codemirror_mode": {
    "name": "ipython",
    "version": 3
   },
   "file_extension": ".py",
   "mimetype": "text/x-python",
   "name": "python",
   "nbconvert_exporter": "python",
   "pygments_lexer": "ipython3",
   "version": "3.10.11"
  }
 },
 "nbformat": 4,
 "nbformat_minor": 2
}
